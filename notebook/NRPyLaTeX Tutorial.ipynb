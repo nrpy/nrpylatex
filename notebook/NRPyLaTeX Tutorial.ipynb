{
 "cells": [
  {
   "cell_type": "markdown",
   "id": "470658d5",
   "metadata": {},
   "source": [
    "# NRPyLaTeX Tutorial Notebook"
   ]
  },
  {
   "cell_type": "code",
   "execution_count": 1,
   "id": "e6df1678",
   "metadata": {},
   "outputs": [
    {
     "name": "stdout",
     "output_type": "stream",
     "text": [
      "nrpylatex @ git+https://github.com/zachetienne/nrpylatex.git@aee228bb20652da4c650e2958673fdabf2b88763\r\n"
     ]
    }
   ],
   "source": [
    "!pip install nrpylatex~=1.2 > /dev/null\n",
    "!pip freeze | grep nrpylatex\n",
    "\n",
    "from nrpylatex import parse_latex\n",
    "%load_ext nrpylatex.extension"
   ]
  },
  {
   "cell_type": "markdown",
   "id": "4729ee93",
   "metadata": {},
   "source": [
    "## Example (1). Schwarzschild Solution to Einstein's Equations"
   ]
  },
  {
   "cell_type": "code",
   "execution_count": 2,
   "id": "18bce03d",
   "metadata": {},
   "outputs": [
    {
     "data": {
      "text/latex": [
       "\\[\n",
       "%% define Schwarzchild coordinate system\n",
       "% coord [t, r, \\theta, \\phi]\n",
       "\n",
       "%% define any relevant constant(s)\n",
       "% define G M --const\n",
       "\n",
       "%% initialize every component of the metric to zero\n",
       "% define gDD --dim 4 --zero\n",
       "\n",
       "%% define Schwarzchild metric diagonal\n",
       "% g_{t t} &= -\\left(1 - \\frac{2GM}{r}\\right) \\\\\n",
       "%% e.g. g_{t t} = g_{0 0} (= g_{x_0 x_0})\n",
       "% g_{r r} &=  \\left(1 - \\frac{2GM}{r}\\right)^{-1} \\\\\n",
       "% g_{\\theta\\theta} &= r^2 \\\\\n",
       "% g_{\\phi\\phi} &= r^2 \\sin^2\\theta \\\\\n",
       "\n",
       "%% generate inverse gUU, determinant det(gDD), and connection GammaUDD\n",
       "% assign gDD --metric\n",
       "\n",
       "% ignore \"\\begin{align}\" \"\\end{align}\"\n",
       "\\begin{align}\n",
       "    %% define Riemann Tensor, Ricci Tensor, Ricci Scalar\n",
       "    R^\\alpha{}_{\\beta\\mu\\nu} &= \\partial_\\mu \\Gamma^\\alpha_{\\beta\\nu} - \\partial_\\nu \\Gamma^\\alpha_{\\beta\\mu}\n",
       "        + \\Gamma^\\alpha_{\\mu\\gamma} \\Gamma^\\gamma_{\\beta\\nu} - \\Gamma^\\alpha_{\\nu\\sigma} \\Gamma^\\sigma_{\\beta\\mu} \\\\\n",
       "    R_{\\beta\\nu} &= R^\\alpha{}_{\\beta\\alpha\\nu} \\\\\n",
       "    R &= g^{\\beta\\nu} R_{\\beta\\nu} \\\\\n",
       "\n",
       "    %% define Einstein Tensor and Kretschmann Scalar\n",
       "    G_{\\beta\\nu} &= R_{\\beta\\nu} - \\frac{1}{2} R g_{\\beta\\nu} \\\\\n",
       "    K &= R^{\\alpha\\beta\\mu\\nu} R_{\\alpha\\beta\\mu\\nu} %% automatic index raising (lowering)\n",
       "\\end{align}\n",
       "\\]"
      ],
      "text/plain": [
       "('gdet',\n",
       " 'R',\n",
       " 'theta',\n",
       " 'gUU',\n",
       " 'epsilonUUUU',\n",
       " 'GDD',\n",
       " 'gDD',\n",
       " 'RDDDD',\n",
       " 'RUUUU',\n",
       " 'RDD',\n",
       " 'M',\n",
       " 'r',\n",
       " 'RUDDD',\n",
       " 'G',\n",
       " 'K',\n",
       " 'GammaUDD')"
      ]
     },
     "execution_count": 2,
     "metadata": {},
     "output_type": "execute_result"
    }
   ],
   "source": [
    "%%parse_latex --reset\n",
    "\n",
    "%% define Schwarzschild coordinate system\n",
    "% coord [t, r, \\theta, \\phi]\n",
    "\n",
    "%% define any relevant constant(s)\n",
    "% define G M --const\n",
    "\n",
    "%% initialize every component of the metric to zero\n",
    "% define gDD --dim 4 --zero\n",
    "\n",
    "%% define Schwarzschild metric diagonal\n",
    "% g_{t t} &= -\\left(1 - \\frac{2GM}{r}\\right) \\\\\n",
    "%% e.g. g_{t t} = g_{0 0} (= g_{x_0 x_0})\n",
    "% g_{r r} &=  \\left(1 - \\frac{2GM}{r}\\right)^{-1} \\\\\n",
    "% g_{\\theta\\theta} &= r^2 \\\\\n",
    "% g_{\\phi\\phi} &= r^2 \\sin^2\\theta \\\\\n",
    "\n",
    "%% generate inverse gUU, determinant det(gDD), and connection GammaUDD\n",
    "% assign gDD --metric\n",
    "\n",
    "% ignore \"\\begin{align}\" \"\\end{align}\"\n",
    "\\begin{align}\n",
    "    %% define Riemann Tensor, Ricci Tensor, Ricci Scalar\n",
    "    R^\\alpha{}_{\\beta\\mu\\nu} &= \\partial_\\mu \\Gamma^\\alpha_{\\beta\\nu} - \\partial_\\nu \\Gamma^\\alpha_{\\beta\\mu}\n",
    "        + \\Gamma^\\alpha_{\\mu\\gamma} \\Gamma^\\gamma_{\\beta\\nu} - \\Gamma^\\alpha_{\\nu\\sigma} \\Gamma^\\sigma_{\\beta\\mu} \\\\\n",
    "    R_{\\beta\\nu} &= R^\\alpha{}_{\\beta\\alpha\\nu} \\\\\n",
    "    R &= g^{\\beta\\nu} R_{\\beta\\nu} \\\\\n",
    "\n",
    "    %% define Einstein Tensor and Kretschmann Scalar\n",
    "    G_{\\beta\\nu} &= R_{\\beta\\nu} - \\frac{1}{2} R g_{\\beta\\nu} \\\\\n",
    "    K &= R^{\\alpha\\beta\\mu\\nu} R_{\\alpha\\beta\\mu\\nu} %% automatic index raising (lowering)\n",
    "\\end{align}"
   ]
  },
  {
   "cell_type": "code",
   "execution_count": 3,
   "id": "b863d3cc",
   "metadata": {},
   "outputs": [
    {
     "data": {
      "text/latex": [
       "$\\displaystyle \\frac{48 G^{2} M^{2}}{r^{6}}$"
      ],
      "text/plain": [
       "48*G**2*M**2/r**6"
      ]
     },
     "execution_count": 3,
     "metadata": {},
     "output_type": "execute_result"
    }
   ],
   "source": [
    "from sympy import simplify\n",
    "\n",
    "simplify(K)"
   ]
  },
  {
   "cell_type": "markdown",
   "id": "01ecb8a4",
   "metadata": {},
   "source": [
    "## Example (2). BSSN Hamiltonian Constraint for Vacuum Spacetimes"
   ]
  },
  {
   "cell_type": "code",
   "execution_count": 4,
   "id": "ea1c9511",
   "metadata": {},
   "outputs": [
    {
     "data": {
      "text/latex": [
       "\\[\n",
       "%% define 3-dimensional, unspecified metric\n",
       "%% append suffix _dD to every partial derivative\n",
       "% define gammabarDD --dim 3 --deriv dD --metric\n",
       "\n",
       "%% apply symmetry [i][j] == [j][i] to each variable\n",
       "% define AbarDD RbarDD --dim 3 --deriv dD --sym sym01\n",
       "\n",
       "%% parse equation internally (avoid LaTeX rendering)\n",
       "% \\bar{R} = \\bar{\\gamma}^{ij} \\bar{R}_{ij}\n",
       "\n",
       "%% note, gradient of cf must have a dimension\n",
       "% define cf --dim 3 --deriv dD\n",
       "\n",
       "%% perform string replacement (with a capture group)\n",
       "% srepl \"e^{-4\\phi}\" -> \"\\text{cf}^2\"\n",
       "% srepl \"\\partial_<1..> \\phi\" -> \"\\partial_<1..> \\text{cf} \\frac{-1}{2 \\text{cf}}\" --persist\n",
       "\n",
       "% ignore \"\\begin{equation}\" \"\\end{equation}\"\n",
       "\\begin{equation}\n",
       "    %% define custom operator \\bar{D}^2\n",
       "    % srepl \"\\bar{D}^2\" -> \"\\bar{D}^i \\bar{D}_i\"\n",
       "    H = \\frac{2}{3} K^2 - \\bar{A}_{ij} \\bar{A}^{ij} + e^{-4\\phi}\n",
       "        \\left(\\bar{R} - 8 \\bar{D}^i \\phi \\bar{D}_i \\phi - 8 \\bar{D}^2 \\phi\\right)\n",
       "\\end{equation}\n",
       "\\]"
      ],
      "text/plain": [
       "('GammabarUDD',\n",
       " 'H',\n",
       " 'cf_cdbarD_dD',\n",
       " 'cf_dDD',\n",
       " 'phi',\n",
       " 'phi_cdbarU',\n",
       " 'AbarDD',\n",
       " 'gammabarDD',\n",
       " 'phi_cdbarD',\n",
       " 'cf',\n",
       " 'gammabarDD_dD',\n",
       " 'K',\n",
       " 'Rbar',\n",
       " 'phi_cdbarDU',\n",
       " 'cf_cdbarD',\n",
       " 'RbarDD',\n",
       " 'epsilonUUU',\n",
       " 'gammabarUU',\n",
       " 'AbarUU',\n",
       " 'cf_dD',\n",
       " 'gammabardet',\n",
       " 'phi_cdbarDD')"
      ]
     },
     "execution_count": 4,
     "metadata": {},
     "output_type": "execute_result"
    }
   ],
   "source": [
    "%%parse_latex --reset\n",
    "\n",
    "%% define 3-dimensional, unspecified metric\n",
    "%% append suffix _dD to every partial derivative\n",
    "% define gammabarDD --dim 3 --deriv dD --metric\n",
    "\n",
    "%% apply symmetry [i][j] == [j][i] to each variable\n",
    "% define AbarDD RbarDD --dim 3 --deriv dD --sym sym01\n",
    "\n",
    "%% parse equation internally (avoid LaTeX rendering)\n",
    "% \\bar{R} = \\bar{\\gamma}^{ij} \\bar{R}_{ij}\n",
    "\n",
    "%% note, gradient of cf must have a dimension\n",
    "% define cf --dim 3 --deriv dD\n",
    "\n",
    "%% perform string replacement (with a capture group)\n",
    "% srepl \"e^{-4\\phi}\" -> \"\\text{cf}^2\"\n",
    "% srepl \"\\partial_<1..> \\phi\" -> \"\\partial_<1..> \\text{cf} \\frac{-1}{2 \\text{cf}}\" --persist\n",
    "\n",
    "% ignore \"\\begin{equation}\" \"\\end{equation}\"\n",
    "\\begin{equation}\n",
    "    %% define custom operator \\bar{D}^2\n",
    "    % srepl \"\\bar{D}^2\" -> \"\\bar{D}^i \\bar{D}_i\"\n",
    "    H = \\frac{2}{3} K^2 - \\bar{A}_{ij} \\bar{A}^{ij} + e^{-4\\phi}\n",
    "        \\left(\\bar{R} - 8 \\bar{D}^i \\phi \\bar{D}_i \\phi - 8 \\bar{D}^2 \\phi\\right)\n",
    "\\end{equation}"
   ]
  },
  {
   "cell_type": "markdown",
   "id": "656cab5a",
   "metadata": {},
   "source": [
    "## Example (3). Exception Handling and Debugging"
   ]
  },
  {
   "cell_type": "code",
   "execution_count": 5,
   "id": "e203edb1",
   "metadata": {},
   "outputs": [
    {
     "name": "stdout",
     "output_type": "stream",
     "text": [
      "TensorError: illegal bound index 'b' in vU\n"
     ]
    }
   ],
   "source": [
    "%%parse_latex\n",
    "\n",
    "% define gUD vD --dim 3\n",
    "v^a = g^a_b v_b"
   ]
  },
  {
   "cell_type": "code",
   "execution_count": 6,
   "id": "ee6dff6f",
   "metadata": {},
   "outputs": [
    {
     "name": "stdout",
     "output_type": "stream",
     "text": [
      "TensorError: unbalanced free index {'a', 'c'} in vU\n"
     ]
    }
   ],
   "source": [
    "%%parse_latex\n",
    "\n",
    "% define gUU --dim 3\n",
    "v^a = g^{cb} v_b"
   ]
  },
  {
   "cell_type": "code",
   "execution_count": 7,
   "id": "5a7ccbdf",
   "metadata": {},
   "outputs": [
    {
     "name": "stdout",
     "output_type": "stream",
     "text": [
      "ParseError: v^a = g^{a*} v_b\n",
      "                      ^\n",
      "unexpected '*' at position 91\n"
     ]
    }
   ],
   "source": [
    "%parse_latex v^a = g^{a*} v_b"
   ]
  },
  {
   "cell_type": "code",
   "execution_count": 8,
   "id": "06614e35",
   "metadata": {},
   "outputs": [
    {
     "name": "stdout",
     "output_type": "stream",
     "text": [
      "ParseError: J^a = (4\\pi k)^{-1} \\nabla_b F^{ab}\n",
      "                                ^\n",
      "cannot generate covariant derivative without defined metric 'g'\n"
     ]
    }
   ],
   "source": [
    "%parse_latex J^a = (4\\pi k)^{-1} \\nabla_b F^{ab}"
   ]
  },
  {
   "cell_type": "markdown",
   "id": "a221ebaa",
   "metadata": {},
   "source": [
    "Note, the `parse_latex()` function (**not** the magic command) will display a stacktrace."
   ]
  },
  {
   "cell_type": "code",
   "execution_count": 9,
   "id": "92dbfca9",
   "metadata": {},
   "outputs": [
    {
     "name": "stdout",
     "output_type": "stream",
     "text": [
      "> LaTeX Input [1]\n",
      "  \\mathcal{L}_\\text{beta} A_{i j} = \\text{beta}^{i_1} % deriv dupD \\partial_{i_1} A_{i j} + (\\partial_{i} \\text{beta}^{i_1}) A_{i_1 j} + (\\partial_{j} \\text{beta}^{i_1}) A_{i i_1}\n",
      "< SymPy Output\n",
      "  Tensor(ADD_ldbeta, i, j) = Tensor(betaU, i_1)*Tensor(ADD_dupD, i, j, i_1) + Tensor(ADD, i, i_1)*Tensor(betaU_dD, i_1, j) + Tensor(ADD, i_1, j)*Tensor(betaU_dD, i_1, i)\n",
      "< Python Output\n",
      "  ADD_ldbeta = [[Add(sum(Mul(betaU[i_1], ADD_dupD[i][j][i_1]) for i_1 in range(3)), sum(Mul(ADD[i][i_1], betaU_dD[i_1][j]) for i_1 in range(3)), sum(Mul(ADD[i_1][j], betaU_dD[i_1][i]) for i_1 in range(3))) for j in range(3)] for i in range(3)]\n",
      "\n",
      "> LaTeX Input [2]\n",
      "  B_{i j} = \\mathcal{L}_\\beta A_{ij}\n",
      "< SymPy Output\n",
      "  Tensor(BDD, i, j) = Tensor(ADD_ldbeta, i, j)\n",
      "< Python Output\n",
      "  BDD = [[ADD_ldbeta[i][j] for j in range(3)] for i in range(3)]\n",
      "\n"
     ]
    },
    {
     "data": {
      "text/plain": [
       "('ADD_ldbeta', 'betaU_dD', 'ADD_dupD', 'BDD', 'betaU', 'ADD')"
      ]
     },
     "execution_count": 9,
     "metadata": {},
     "output_type": "execute_result"
    }
   ],
   "source": [
    "parse_latex(r\"\"\"\n",
    "    % srepl \"<1>^{<2..>} \\partial_{<2..>}\" -> \"<1>^{<2..>} % deriv dupD \\partial_{<2..>}\" --persist\n",
    "\n",
    "    % define betaU ADD --dim 3 --deriv dD\n",
    "    B_{ij} = \\mathcal{L}_\\beta A_{ij}\n",
    "\"\"\", reset=True, debug=True)"
   ]
  },
  {
   "cell_type": "markdown",
   "id": "af618e7a",
   "metadata": {},
   "source": [
    "## Example (4). A Brief Survey of NRPyLaTeX's Features"
   ]
  },
  {
   "cell_type": "code",
   "execution_count": 10,
   "id": "692e5910",
   "metadata": {},
   "outputs": [
    {
     "data": {
      "text/latex": [
       "$\\displaystyle \\frac{2}{3} - 2 \\sqrt[5]{x + 3}$"
      ],
      "text/plain": [
       "2/3 - 2*(x + 3)**(1/5)"
      ]
     },
     "execution_count": 10,
     "metadata": {},
     "output_type": "execute_result"
    }
   ],
   "source": [
    "# Expression Parsing\n",
    "parse_latex(r\"\"\"\n",
    "    \\frac{2}{3} - 2\\sqrt[5]{x + 3}\n",
    "\"\"\", reset=True)"
   ]
  },
  {
   "cell_type": "code",
   "execution_count": 11,
   "id": "7fda8479",
   "metadata": {},
   "outputs": [
    {
     "name": "stdout",
     "output_type": "stream",
     "text": [
      "uD_dDD000 + vD_dDD000 - wD_dDD000\n"
     ]
    }
   ],
   "source": [
    "# Comma/Colon Notation\n",
    "parse_latex(r\"\"\"\n",
    "    % define vD uD wD --dim 3 --deriv dD\n",
    "    T_{abc} = ((v_a + u_a)_{,b} - w_{a,b})_{,c}\n",
    "\"\"\", reset=True)\n",
    "print(TDDD[0][0][0])"
   ]
  },
  {
   "cell_type": "code",
   "execution_count": 12,
   "id": "7ce1cf34",
   "metadata": {},
   "outputs": [
    {
     "data": {
      "text/plain": [
       "[TUU01*vD0 + TUU02*vD1, TUU11*vD0 + TUU12*vD1, TUU21*vD0 + TUU22*vD1]"
      ]
     },
     "execution_count": 12,
     "metadata": {},
     "output_type": "execute_result"
    }
   ],
   "source": [
    "# Mixed Dimension Indexing\n",
    "parse_latex(r\"\"\"\n",
    "    % define TUU --dim 3\n",
    "    % define vD  --dim 2\n",
    "    % index i --dim 2\n",
    "    w^a = T^{a i} v_i\n",
    "\"\"\", reset=True)\n",
    "wU"
   ]
  },
  {
   "cell_type": "code",
   "execution_count": 13,
   "id": "c9fa7ff6",
   "metadata": {},
   "outputs": [
    {
     "data": {
      "text/latex": [
       "$\\displaystyle - \\sin{\\left(\\theta \\right)} \\cos{\\left(\\theta \\right)}$"
      ],
      "text/plain": [
       "-sin(theta)*cos(theta)"
      ]
     },
     "metadata": {},
     "output_type": "display_data"
    },
    {
     "data": {
      "text/latex": [
       "$\\displaystyle \\frac{2}{r^{2}}$"
      ],
      "text/plain": [
       "2/r**2"
      ]
     },
     "metadata": {},
     "output_type": "display_data"
    }
   ],
   "source": [
    "# Change Index Loop/Summation Range\n",
    "parse_latex(r\"\"\"\n",
    "    % coord [\\theta, \\phi]\n",
    "    % index [a-z] --dim 2\n",
    "    % define r --const\n",
    "\n",
    "    % define gDD --dim 2 --zero\n",
    "    g_{0 0} = r^2 \\\\\n",
    "    g_{1 1} = r^2 \\sin^2(\\theta)\n",
    "    % assign gDD --metric\n",
    "\n",
    "    R^\\alpha_{\\beta\\mu\\nu} = \\partial_\\mu \\Gamma^\\alpha_{\\beta\\nu} - \\partial_\\nu \\Gamma^\\alpha_{\\beta\\mu}\n",
    "        + \\Gamma^\\alpha_{\\mu\\gamma}\\Gamma^\\gamma_{\\beta\\nu} - \\Gamma^\\alpha_{\\nu\\sigma}\\Gamma^\\sigma_{\\beta\\mu} \\\\\n",
    "    R_{\\alpha\\beta\\mu\\nu} = g_{\\alpha a} R^a_{\\beta\\mu\\nu} \\\\\n",
    "    R_{\\beta\\nu} = R^\\alpha_{\\beta\\alpha\\nu} \\\\\n",
    "    R = g^{\\beta\\nu} R_{\\beta\\nu}\n",
    "\"\"\", reset=True)\n",
    "\n",
    "from IPython.display import display\n",
    "display(GammaUDD[0][1][1])\n",
    "display(R)"
   ]
  },
  {
   "cell_type": "code",
   "execution_count": 14,
   "id": "7088c4a9",
   "metadata": {},
   "outputs": [
    {
     "data": {
      "text/plain": [
       "('gammahatDD', 'gammabarDD', 'hDD', 'RDD', 'TDDD')"
      ]
     },
     "execution_count": 14,
     "metadata": {},
     "output_type": "execute_result"
    }
   ],
   "source": [
    "# Disable Implied Summation and\n",
    "# Change Derivative Suffix Inline (e.g. Upwind)\n",
    "parse_latex(r\"\"\"\n",
    "    % coord [r, \\theta, \\phi]\n",
    "\n",
    "    % define gammahatDD --dim 3 --zero\n",
    "    % define RDD --dim 3 --deriv dD\n",
    "    % \\hat{\\gamma}_{ii} = R_{ii} % noimpsum\n",
    "\n",
    "    % define hDD --dim 3 --deriv dD\n",
    "    % \\bar{\\gamma}_{ij} = h_{ij} R_{ij} + \\hat{\\gamma}_{ij} % noimpsum\n",
    "\n",
    "    T_{ijk} = \\partial_k % deriv dupD\n",
    "        \\bar{\\gamma}_{ij}\n",
    "\"\"\", reset=True)"
   ]
  },
  {
   "cell_type": "code",
   "execution_count": 15,
   "id": "3deb5fff",
   "metadata": {},
   "outputs": [
    {
     "data": {
      "text/plain": [
       "('ghatDD_dD',\n",
       " 'gdet',\n",
       " 'GammahatUDD',\n",
       " 'JU',\n",
       " 'ghatDD',\n",
       " 'gUU',\n",
       " 'gDD_dD',\n",
       " 'epsilonUUUU',\n",
       " 'gDD',\n",
       " 'ghatdet',\n",
       " 'FUU_dD',\n",
       " 'ghatUU',\n",
       " 'k',\n",
       " 'FUU_cdhatD',\n",
       " 'FUU',\n",
       " 'GammaUDD')"
      ]
     },
     "execution_count": 15,
     "metadata": {},
     "output_type": "execute_result"
    }
   ],
   "source": [
    "# Multiple Metric Tensors\n",
    "parse_latex(r\"\"\"\n",
    "    % define k --const\n",
    "\n",
    "    % define FUU --dim 4 --deriv dD --sym anti01\n",
    "    % define gDD --dim 4 --deriv dD --metric\n",
    "    % define ghatDD --dim 4 --deriv dD --metric\n",
    "\n",
    "    J^\\mu = (4\\pi k)^{-1} \\hat{\\nabla}_\\nu F^{\\mu\\nu}\n",
    "\"\"\", reset=True)"
   ]
  },
  {
   "cell_type": "code",
   "execution_count": 16,
   "id": "705b61a3",
   "metadata": {},
   "outputs": [
    {
     "data": {
      "text/plain": [
       "('JU',\n",
       " 'epsilonUUUU',\n",
       " 'hDD',\n",
       " 'FUU_dD',\n",
       " 'k',\n",
       " 'hDD_dD',\n",
       " 'FUU',\n",
       " 'FUU_cdD',\n",
       " 'hdet',\n",
       " 'hUU',\n",
       " 'GammaUDD')"
      ]
     },
     "execution_count": 16,
     "metadata": {},
     "output_type": "execute_result"
    }
   ],
   "source": [
    "# Assign Specific Metric to Tensor\n",
    "parse_latex(r\"\"\"\n",
    "    % define k --const\n",
    "\n",
    "    % define hDD --dim 4 --deriv dD --metric\n",
    "    % define FUU --dim 4 --deriv dD --sym anti01 --metric hDD\n",
    "\n",
    "    J^\\mu = (4\\pi k)^{-1} \\nabla_\\nu F^{\\mu\\nu}\n",
    "\"\"\", reset=True)"
   ]
  }
 ],
 "metadata": {
  "kernelspec": {
   "display_name": "Python 3 (ipykernel)",
   "language": "python",
   "name": "python3"
  },
  "language_info": {
   "codemirror_mode": {
    "name": "ipython",
    "version": 3
   },
   "file_extension": ".py",
   "mimetype": "text/x-python",
   "name": "python",
   "nbconvert_exporter": "python",
   "pygments_lexer": "ipython3",
   "version": "3.9.12"
  },
  "vscode": {
   "interpreter": {
    "hash": "5c3e5d5aa29530c3ad627e13869f00ab1fb4f23b3182f7d17b2cf8c62882b638"
   }
  }
 },
 "nbformat": 4,
 "nbformat_minor": 5
}
