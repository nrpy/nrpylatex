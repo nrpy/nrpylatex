{
 "cells": [
  {
   "attachments": {},
   "cell_type": "markdown",
   "id": "470658d5",
   "metadata": {},
   "source": [
    "# NRPyLaTeX Tutorial Notebook"
   ]
  },
  {
   "cell_type": "code",
   "execution_count": 1,
   "id": "e6df1678",
   "metadata": {},
   "outputs": [
    {
     "name": "stdout",
     "output_type": "stream",
     "text": [
      "nrpylatex==1.2.6\n"
     ]
    }
   ],
   "source": [
    "!pip install nrpylatex~=1.2 > /dev/null\n",
    "!pip freeze | grep nrpylatex\n",
    "\n",
    "from nrpylatex import parse_latex\n",
    "%load_ext nrpylatex"
   ]
  },
  {
   "attachments": {},
   "cell_type": "markdown",
   "id": "8124abda",
   "metadata": {},
   "source": [
    "Note, the `--reset` flag (or function argument) clears the internal namespace of NRPyLaTeX. Otherwise, `parse_latex` can be split and/or chained."
   ]
  },
  {
   "attachments": {},
   "cell_type": "markdown",
   "id": "4729ee93",
   "metadata": {},
   "source": [
    "## Example (1). Schwarzschild Solution to Einstein's Equations"
   ]
  },
  {
   "cell_type": "code",
   "execution_count": 2,
   "id": "18bce03d",
   "metadata": {},
   "outputs": [
    {
     "data": {
      "text/latex": [
       "\\[\n",
       "%% define Schwarzschild coordinate system\n",
       "% coord [t, r, \\theta, \\phi]\n",
       "\n",
       "%% define any relevant constant(s)\n",
       "% define G M --const\n",
       "\n",
       "%% initialize every component of the metric to zero\n",
       "% define gDD --dim 4 --zero\n",
       "\n",
       "%% define Schwarzschild metric diagonal\n",
       "% g_{t t} &= -\\left(1 - \\frac{2GM}{r}\\right) \\\\ %% g_{t t} = g_{0 0}\n",
       "% g_{r r} &=  \\left(1 - \\frac{2GM}{r}\\right)^{-1} \\\\\n",
       "% g_{\\theta\\theta} &= r^2 \\\\\n",
       "% g_{\\phi\\phi} &= r^2 \\sin^2\\theta \\\\\n",
       "\n",
       "%% generate inverse gUU, determinant det(gDD), and connection GammaUDD\n",
       "% assign gDD --metric\n",
       "\n",
       "% ignore \"\\begin{align}\" \"\\end{align}\"\n",
       "\\begin{align}\n",
       "    %% define Riemann Tensor, Ricci Tensor, Ricci Scalar\n",
       "    R^\\alpha{}_{\\beta\\mu\\nu} &= \\partial_\\mu \\Gamma^\\alpha_{\\beta\\nu} - \\partial_\\nu \\Gamma^\\alpha_{\\beta\\mu}\n",
       "        + \\Gamma^\\alpha_{\\mu\\gamma} \\Gamma^\\gamma_{\\beta\\nu} - \\Gamma^\\alpha_{\\nu\\sigma} \\Gamma^\\sigma_{\\beta\\mu} \\\\\n",
       "    R_{\\beta\\nu} &= R^\\alpha{}_{\\beta\\alpha\\nu} \\\\\n",
       "    R &= g^{\\beta\\nu} R_{\\beta\\nu} \\\\\n",
       "\n",
       "    %% define Einstein Tensor and Kretschmann Scalar\n",
       "    G_{\\beta\\nu} &= R_{\\beta\\nu} - \\frac{1}{2} R g_{\\beta\\nu} \\\\\n",
       "    K &= R^{\\alpha\\beta\\mu\\nu} R_{\\alpha\\beta\\mu\\nu} %% automatic index raising (lowering)\n",
       "\\end{align}\n",
       "\\]"
      ],
      "text/plain": [
       "('G',\n",
       " 'M',\n",
       " 'gDD',\n",
       " 'r',\n",
       " 'theta',\n",
       " 'epsilonUUUU',\n",
       " 'gdet',\n",
       " 'gUU',\n",
       " 'GammaUDD',\n",
       " 'RUDDD',\n",
       " 'RDD',\n",
       " 'R',\n",
       " 'GDD',\n",
       " 'RUUUU',\n",
       " 'RDDDD',\n",
       " 'K')"
      ]
     },
     "execution_count": 2,
     "metadata": {},
     "output_type": "execute_result"
    }
   ],
   "source": [
    "%%parse_latex --reset\n",
    "\n",
    "%% define Schwarzschild coordinate system\n",
    "% coord [t, r, \\theta, \\phi]\n",
    "\n",
    "%% define any relevant constant(s)\n",
    "% define G M --const\n",
    "\n",
    "%% initialize every component of the metric to zero\n",
    "% define gDD --dim 4 --zero\n",
    "\n",
    "%% define Schwarzschild metric diagonal\n",
    "% g_{t t} &= -\\left(1 - \\frac{2GM}{r}\\right) \\\\ %% g_{t t} = g_{0 0}\n",
    "% g_{r r} &=  \\left(1 - \\frac{2GM}{r}\\right)^{-1} \\\\\n",
    "% g_{\\theta\\theta} &= r^2 \\\\\n",
    "% g_{\\phi\\phi} &= r^2 \\sin^2\\theta \\\\\n",
    "\n",
    "%% generate inverse gUU, determinant det(gDD), and connection GammaUDD\n",
    "% assign gDD --metric\n",
    "\n",
    "% ignore \"\\begin{align}\" \"\\end{align}\"\n",
    "\\begin{align}\n",
    "    %% define Riemann Tensor, Ricci Tensor, Ricci Scalar\n",
    "    R^\\alpha{}_{\\beta\\mu\\nu} &= \\partial_\\mu \\Gamma^\\alpha_{\\beta\\nu} - \\partial_\\nu \\Gamma^\\alpha_{\\beta\\mu}\n",
    "        + \\Gamma^\\alpha_{\\mu\\gamma} \\Gamma^\\gamma_{\\beta\\nu} - \\Gamma^\\alpha_{\\nu\\sigma} \\Gamma^\\sigma_{\\beta\\mu} \\\\\n",
    "    R_{\\beta\\nu} &= R^\\alpha{}_{\\beta\\alpha\\nu} \\\\\n",
    "    R &= g^{\\beta\\nu} R_{\\beta\\nu} \\\\\n",
    "\n",
    "    %% define Einstein Tensor and Kretschmann Scalar\n",
    "    G_{\\beta\\nu} &= R_{\\beta\\nu} - \\frac{1}{2} R g_{\\beta\\nu} \\\\\n",
    "    K &= R^{\\alpha\\beta\\mu\\nu} R_{\\alpha\\beta\\mu\\nu} %% automatic index raising (lowering)\n",
    "\\end{align}"
   ]
  },
  {
   "cell_type": "code",
   "execution_count": 3,
   "id": "b863d3cc",
   "metadata": {},
   "outputs": [
    {
     "data": {
      "text/latex": [
       "$\\displaystyle \\frac{48 G^{2} M^{2}}{r^{6}}$"
      ],
      "text/plain": [
       "48*G**2*M**2/r**6"
      ]
     },
     "execution_count": 3,
     "metadata": {},
     "output_type": "execute_result"
    }
   ],
   "source": [
    "from sympy import simplify\n",
    "\n",
    "simplify(K)"
   ]
  },
  {
   "attachments": {},
   "cell_type": "markdown",
   "id": "01ecb8a4",
   "metadata": {},
   "source": [
    "## Example (2). BSSN Hamiltonian Constraint for Vacuum Spacetimes"
   ]
  },
  {
   "cell_type": "code",
   "execution_count": 4,
   "id": "ea1c9511",
   "metadata": {},
   "outputs": [
    {
     "data": {
      "text/latex": [
       "\\[\n",
       "%% define 3-dimensional, unspecified metric\n",
       "%% append suffix _dD to every partial derivative\n",
       "% define gammabarDD --dim 3 --deriv dD --metric\n",
       "\n",
       "%% apply symmetry [i][j] == [j][i] to each variable\n",
       "% define AbarDD RbarDD --dim 3 --deriv dD --sym sym01\n",
       "\n",
       "%% parse equation internally (avoid LaTeX rendering)\n",
       "% \\bar{R} = \\bar{\\gamma}^{ij} \\bar{R}_{ij}\n",
       "\n",
       "%% note, gradient of cf must have a dimension\n",
       "% define cf --dim 3 --deriv dD\n",
       "\n",
       "%% perform string replacement (with a capture group)\n",
       "% srepl \"e^{-4\\phi}\" -> \"\\mathrm{cf}^2\"\n",
       "% srepl \"\\partial_<1..> \\phi\" -> \"\\partial_<1..> \\mathrm{cf} \\frac{-1}{2 \\text{cf}}\" --persist\n",
       "\n",
       "% ignore \"\\begin{equation}\" \"\\end{equation}\"\n",
       "\\begin{equation}\n",
       "    %% define custom operator \\bar{D}^2\n",
       "    % srepl \"\\bar{D}^2\" -> \"\\bar{D}^i \\bar{D}_i\"\n",
       "    H = \\frac{2}{3} K^2 - \\bar{A}_{ij} \\bar{A}^{ij} + e^{-4\\phi}\n",
       "        \\left(\\bar{R} - 8 \\bar{D}^i \\phi \\bar{D}_i \\phi - 8 \\bar{D}^2 \\phi\\right)\n",
       "\\end{equation}\n",
       "\\]"
      ],
      "text/plain": [
       "('gammabarDD',\n",
       " 'epsilonUUU',\n",
       " 'gammabardet',\n",
       " 'gammabarUU',\n",
       " 'gammabarDD_dD',\n",
       " 'GammabarUDD',\n",
       " 'AbarDD',\n",
       " 'RbarDD',\n",
       " 'Rbar',\n",
       " 'cf',\n",
       " 'K',\n",
       " 'AbarUU',\n",
       " 'phi',\n",
       " 'cf_dD',\n",
       " 'phi_cdbarD',\n",
       " 'phi_cdbarU',\n",
       " 'cf_cdbarD',\n",
       " 'cf_cdbarD_dD',\n",
       " 'cf_dDD',\n",
       " 'phi_cdbarDD',\n",
       " 'phi_cdbarDU',\n",
       " 'H')"
      ]
     },
     "execution_count": 4,
     "metadata": {},
     "output_type": "execute_result"
    }
   ],
   "source": [
    "%%parse_latex --reset\n",
    "\n",
    "%% define 3-dimensional, unspecified metric\n",
    "%% append suffix _dD to every partial derivative\n",
    "% define gammabarDD --dim 3 --deriv dD --metric\n",
    "\n",
    "%% apply symmetry [i][j] == [j][i] to each variable\n",
    "% define AbarDD RbarDD --dim 3 --deriv dD --sym sym01\n",
    "\n",
    "%% parse equation internally (avoid LaTeX rendering)\n",
    "% \\bar{R} = \\bar{\\gamma}^{ij} \\bar{R}_{ij}\n",
    "\n",
    "%% note, gradient of cf must have a dimension\n",
    "% define cf --dim 3 --deriv dD\n",
    "\n",
    "%% perform string replacement (with a capture group)\n",
    "% srepl \"e^{-4\\phi}\" -> \"\\mathrm{cf}^2\"\n",
    "% srepl \"\\partial_<1..> \\phi\" -> \"\\partial_<1..> \\mathrm{cf} \\frac{-1}{2 \\text{cf}}\" --persist\n",
    "\n",
    "% ignore \"\\begin{equation}\" \"\\end{equation}\"\n",
    "\\begin{equation}\n",
    "    %% define custom operator \\bar{D}^2\n",
    "    % srepl \"\\bar{D}^2\" -> \"\\bar{D}^i \\bar{D}_i\"\n",
    "    H = \\frac{2}{3} K^2 - \\bar{A}_{ij} \\bar{A}^{ij} + e^{-4\\phi}\n",
    "        \\left(\\bar{R} - 8 \\bar{D}^i \\phi \\bar{D}_i \\phi - 8 \\bar{D}^2 \\phi\\right)\n",
    "\\end{equation}"
   ]
  },
  {
   "attachments": {},
   "cell_type": "markdown",
   "id": "656cab5a",
   "metadata": {},
   "source": [
    "## Example (3). Exception Handling and Debugging"
   ]
  },
  {
   "cell_type": "code",
   "execution_count": 5,
   "id": "e203edb1",
   "metadata": {},
   "outputs": [
    {
     "name": "stdout",
     "output_type": "stream",
     "text": [
      "TensorError: illegal bound index 'b' in vU\n"
     ]
    }
   ],
   "source": [
    "%%parse_latex --reset\n",
    "\n",
    "% define gUD vD --dim 3\n",
    "v^a = g^a_b v_b"
   ]
  },
  {
   "cell_type": "code",
   "execution_count": 6,
   "id": "ee6dff6f",
   "metadata": {},
   "outputs": [
    {
     "name": "stdout",
     "output_type": "stream",
     "text": [
      "TensorError: unbalanced free indices {'a', 'c'} in vU\n"
     ]
    }
   ],
   "source": [
    "%%parse_latex --reset\n",
    "\n",
    "% define gUU vD --dim 3\n",
    "v^a = g^{cb} v_b"
   ]
  },
  {
   "cell_type": "code",
   "execution_count": 7,
   "id": "5a7ccbdf",
   "metadata": {},
   "outputs": [
    {
     "name": "stdout",
     "output_type": "stream",
     "text": [
      "ScanError: v^a = g^{a*} v_b\n",
      "                      ^\n",
      "unexpected '*' at position 10\n"
     ]
    }
   ],
   "source": [
    "%parse_latex --reset v^a = g^{a*} v_b"
   ]
  },
  {
   "cell_type": "code",
   "execution_count": 8,
   "id": "06614e35",
   "metadata": {},
   "outputs": [
    {
     "name": "stdout",
     "output_type": "stream",
     "text": [
      "ParseError: J^a = (4\\pi k)^{-1} \\nabla_b F^{ab}\n",
      "                                ^\n",
      "cannot generate covariant derivative without defined metric 'g'\n"
     ]
    }
   ],
   "source": [
    "%parse_latex --reset J^a = (4\\pi k)^{-1} \\nabla_b F^{ab}"
   ]
  },
  {
   "cell_type": "code",
   "execution_count": 9,
   "id": "e5bf4114",
   "metadata": {},
   "outputs": [
    {
     "name": "stdout",
     "output_type": "stream",
     "text": [
      "ParseError: v^a = u^a\n",
      "                  ^\n",
      "cannot raise/lower index for 'uU' without defined metric at position 26\n"
     ]
    }
   ],
   "source": [
    "%%parse_latex --reset\n",
    "\n",
    "% define uD --dim 2\n",
    "v^a = u^a"
   ]
  },
  {
   "cell_type": "code",
   "execution_count": 10,
   "id": "994f94ce",
   "metadata": {},
   "outputs": [
    {
     "name": "stdout",
     "output_type": "stream",
     "text": [
      "ParseError: index out of range; change loop/summation range\n"
     ]
    }
   ],
   "source": [
    "%%parse_latex --reset\n",
    "\n",
    "% define TUU vD --dim 3\n",
    "u^\\alpha = T^{\\alpha\\beta} v_\\beta"
   ]
  },
  {
   "attachments": {},
   "cell_type": "markdown",
   "id": "a221ebaa",
   "metadata": {},
   "source": [
    "Note, only the `parse_latex` function (**not** the line/cell magic) displays a full stacktrace."
   ]
  },
  {
   "cell_type": "code",
   "execution_count": 11,
   "id": "6e0a8473",
   "metadata": {},
   "outputs": [
    {
     "name": "stdout",
     "output_type": "stream",
     "text": [
      "[1] LaTeX Input\n",
      "        \\mathcal{L}_\\mathrm{beta} A_{i j} = \\mathrm{beta}^{i_1} \\partial_{i_1} A_{i j} + (\\partial_{i} \\mathrm{beta}^{i_1}) A_{i_1 j} + (\\partial_{j} \\mathrm{beta}^{i_1}) A_{i i_1}\n",
      "    SymPy Output\n",
      "        Tensor(ADD_ldbeta, i, j) = Tensor(betaU, i_1)*Tensor(ADD_dD, i, j, i_1) + Tensor(ADD, i, i_1)*Tensor(betaU_dD, i_1, j) + Tensor(ADD, i_1, j)*Tensor(betaU_dD, i_1, i)\n",
      "    Python Output\n",
      "        ADD_ldbeta = [[Add(sum(Mul(betaU[i_1], ADD_dD[i][j][i_1]) for i_1 in range(3)), sum(Mul(ADD[i][i_1], betaU_dD[i_1][j]) for i_1 in range(3)), sum(Mul(ADD[i_1][j], betaU_dD[i_1][i]) for i_1 in range(3))) for j in range(3)] for i in range(3)]\n",
      "\n",
      "[2] LaTeX Input\n",
      "        B_{i j} = \\mathcal{L}_\\beta A_{ij}\n",
      "    SymPy Output\n",
      "        Tensor(BDD, i, j) = Tensor(ADD_ldbeta, i, j)\n",
      "    Python Output\n",
      "        BDD = [[ADD_ldbeta[i][j] for j in range(3)] for i in range(3)]\n",
      "\n"
     ]
    },
    {
     "data": {
      "text/plain": [
       "('betaU', 'ADD', 'ADD_dD', 'betaU_dD', 'ADD_ldbeta', 'BDD')"
      ]
     },
     "execution_count": 11,
     "metadata": {},
     "output_type": "execute_result"
    }
   ],
   "source": [
    "parse_latex(r\"\"\"\n",
    "    % define betaU ADD --dim 3 --deriv dD\n",
    "    B_{ij} = \\mathcal{L}_\\beta A_{ij}\n",
    "\"\"\", reset=True, debug=True)"
   ]
  },
  {
   "cell_type": "code",
   "execution_count": 12,
   "id": "92dbfca9",
   "metadata": {},
   "outputs": [
    {
     "name": "stdout",
     "output_type": "stream",
     "text": [
      "[1] LaTeX Input\n",
      "        \\mathcal{L}_\\mathrm{beta} A_{i j} = \\beta^{i_1} % deriv dupD \\partial_{i_1} A_{i j} + (\\partial_{i} \\mathrm{beta}^{i_1}) A_{i_1 j} + (\\partial_{j} \\mathrm{beta}^{i_1}) A_{i i_1}\n",
      "    SymPy Output\n",
      "        Tensor(ADD_ldbeta, i, j) = Tensor(betaU, i_1)*Tensor(ADD_dupD, i, j, i_1) + Tensor(ADD, i, i_1)*Tensor(betaU_dD, i_1, j) + Tensor(ADD, i_1, j)*Tensor(betaU_dD, i_1, i)\n",
      "    Python Output\n",
      "        ADD_ldbeta = [[Add(sum(Mul(betaU[i_1], ADD_dupD[i][j][i_1]) for i_1 in range(3)), sum(Mul(ADD[i][i_1], betaU_dD[i_1][j]) for i_1 in range(3)), sum(Mul(ADD[i_1][j], betaU_dD[i_1][i]) for i_1 in range(3))) for j in range(3)] for i in range(3)]\n",
      "\n",
      "[2] LaTeX Input\n",
      "        B_{i j} = \\mathcal{L}_\\beta A_{ij}\n",
      "    SymPy Output\n",
      "        Tensor(BDD, i, j) = Tensor(ADD_ldbeta, i, j)\n",
      "    Python Output\n",
      "        BDD = [[ADD_ldbeta[i][j] for j in range(3)] for i in range(3)]\n",
      "\n"
     ]
    },
    {
     "data": {
      "text/plain": [
       "('betaU', 'ADD', 'ADD_dupD', 'betaU_dD', 'ADD_ldbeta', 'BDD')"
      ]
     },
     "execution_count": 12,
     "metadata": {},
     "output_type": "execute_result"
    }
   ],
   "source": [
    "parse_latex(r\"\"\"\n",
    "    % srepl \"\\beta^{<1..>} \\partial_{<1..>}\" -> \"\\beta^{<1..>} % deriv dupD \\partial_{<1..>}\" --persist\n",
    "\n",
    "    % define betaU ADD --dim 3 --deriv dD\n",
    "    B_{ij} = \\mathcal{L}_\\beta A_{ij}\n",
    "\"\"\", reset=True, debug=True)"
   ]
  },
  {
   "attachments": {},
   "cell_type": "markdown",
   "id": "af618e7a",
   "metadata": {},
   "source": [
    "## Example (4). A Brief Survey of NRPyLaTeX's Features"
   ]
  },
  {
   "cell_type": "code",
   "execution_count": 13,
   "id": "692e5910",
   "metadata": {},
   "outputs": [
    {
     "data": {
      "text/latex": [
       "$\\displaystyle \\frac{2}{3} - 2 \\sqrt[5]{x + 3}$"
      ],
      "text/plain": [
       "2/3 - 2*(x + 3)**(1/5)"
      ]
     },
     "execution_count": 13,
     "metadata": {},
     "output_type": "execute_result"
    }
   ],
   "source": [
    "# Expression Parsing\n",
    "parse_latex(r\"\"\"\n",
    "    \\frac{2}{3} - 2\\sqrt[5]{x + 3}\n",
    "\"\"\", reset=True)"
   ]
  },
  {
   "cell_type": "code",
   "execution_count": 14,
   "id": "7fda8479",
   "metadata": {},
   "outputs": [
    {
     "name": "stdout",
     "output_type": "stream",
     "text": [
      "uD_dDD000 + vD_dDD000 - wD_dDD000\n"
     ]
    }
   ],
   "source": [
    "# Comma/Semicolon Notation\n",
    "parse_latex(r\"\"\"\n",
    "    % define vD uD wD --dim 2 --deriv dD\n",
    "    % index [a-c] --dim 2\n",
    "    T_{abc} = ((v_a + u_a)_{,b} - w_{a,b})_{,c}\n",
    "\"\"\", reset=True)\n",
    "print(TDDD[0][0][0])"
   ]
  },
  {
   "cell_type": "code",
   "execution_count": 15,
   "id": "7ce1cf34",
   "metadata": {},
   "outputs": [
    {
     "data": {
      "text/plain": [
       "[TUU01*vD0 + TUU02*vD1 + TUU03*vD2,\n",
       " TUU11*vD0 + TUU12*vD1 + TUU13*vD2,\n",
       " TUU21*vD0 + TUU22*vD1 + TUU23*vD2,\n",
       " TUU31*vD0 + TUU32*vD1 + TUU33*vD2]"
      ]
     },
     "execution_count": 15,
     "metadata": {},
     "output_type": "execute_result"
    }
   ],
   "source": [
    "# Mixed Dimension Indexing\n",
    "parse_latex(r\"\"\"\n",
    "    % define TUU --dim 4\n",
    "    % define vD --dim 3\n",
    "    % index a --dim 4\n",
    "    w^a = T^{a i} v_i\n",
    "\"\"\", reset=True)\n",
    "wU"
   ]
  },
  {
   "cell_type": "code",
   "execution_count": 16,
   "id": "c9fa7ff6",
   "metadata": {},
   "outputs": [
    {
     "data": {
      "text/latex": [
       "$\\displaystyle - \\sin{\\left(\\theta \\right)} \\cos{\\left(\\theta \\right)}$"
      ],
      "text/plain": [
       "-sin(theta)*cos(theta)"
      ]
     },
     "metadata": {},
     "output_type": "display_data"
    },
    {
     "data": {
      "text/latex": [
       "$\\displaystyle \\frac{2}{r^{2}}$"
      ],
      "text/plain": [
       "2/r**2"
      ]
     },
     "metadata": {},
     "output_type": "display_data"
    }
   ],
   "source": [
    "# Change Index Loop/Summation Range\n",
    "parse_latex(r\"\"\"\n",
    "    % coord [\\theta, \\phi]\n",
    "    % index --default --dim 2\n",
    "    % define r --const\n",
    "\n",
    "    % define gDD --dim 2 --zero\n",
    "    g_{0 0} = r^2 \\\\\n",
    "    g_{1 1} = r^2 \\sin^2(\\theta)\n",
    "    % assign gDD --metric\n",
    "\n",
    "    R^\\alpha_{\\beta\\mu\\nu} = \\partial_\\mu \\Gamma^\\alpha_{\\beta\\nu} - \\partial_\\nu \\Gamma^\\alpha_{\\beta\\mu}\n",
    "        + \\Gamma^\\alpha_{\\mu\\gamma}\\Gamma^\\gamma_{\\beta\\nu} - \\Gamma^\\alpha_{\\nu\\sigma}\\Gamma^\\sigma_{\\beta\\mu} \\\\\n",
    "    R_{\\alpha\\beta\\mu\\nu} = g_{\\alpha a} R^a_{\\beta\\mu\\nu} \\\\\n",
    "    R_{\\beta\\nu} = R^\\alpha_{\\beta\\alpha\\nu} \\\\\n",
    "    R = g^{\\beta\\nu} R_{\\beta\\nu}\n",
    "\"\"\", reset=True)\n",
    "\n",
    "from IPython.display import display\n",
    "display(GammaUDD[0][1][1])\n",
    "display(R)"
   ]
  },
  {
   "cell_type": "code",
   "execution_count": 17,
   "id": "7088c4a9",
   "metadata": {},
   "outputs": [
    {
     "data": {
      "text/plain": [
       "('gammahatDD', 'RDD', 'hDD', 'gammabarDD')"
      ]
     },
     "execution_count": 17,
     "metadata": {},
     "output_type": "execute_result"
    }
   ],
   "source": [
    "# Disable Implied Summation (e.g. Hadamard)\n",
    "parse_latex(r\"\"\"\n",
    "    % coord [r, \\theta, \\phi]\n",
    "\n",
    "    % define gammahatDD --dim 3 --zero\n",
    "    % define RDD --dim 3 --deriv dD\n",
    "    % \\hat{\\gamma}_{ii} = R_{ii} % noimpsum\n",
    "\n",
    "    % define hDD --dim 3 --deriv dD\n",
    "    % \\bar{\\gamma}_{ij} = h_{ij} R_{ij} + \\hat{\\gamma}_{ij} % noimpsum\n",
    "\"\"\", reset=True)"
   ]
  },
  {
   "cell_type": "code",
   "execution_count": 18,
   "id": "3deb5fff",
   "metadata": {},
   "outputs": [
    {
     "data": {
      "text/plain": [
       "('k',\n",
       " 'FUU',\n",
       " 'gDD',\n",
       " 'epsilonUUUU',\n",
       " 'gdet',\n",
       " 'gUU',\n",
       " 'gDD_dD',\n",
       " 'GammaUDD',\n",
       " 'ghatDD',\n",
       " 'ghatdet',\n",
       " 'ghatUU',\n",
       " 'ghatDD_dD',\n",
       " 'GammahatUDD',\n",
       " 'FUU_dD',\n",
       " 'FUU_cdhatD',\n",
       " 'JU')"
      ]
     },
     "execution_count": 18,
     "metadata": {},
     "output_type": "execute_result"
    }
   ],
   "source": [
    "# Multiple Metric Tensors (Diacritics)\n",
    "parse_latex(r\"\"\"\n",
    "    % define k --const\n",
    "\n",
    "    % define FUU --dim 4 --deriv dD --sym anti01\n",
    "    % define gDD --dim 4 --deriv dD --metric\n",
    "    % define ghatDD --dim 4 --deriv dD --metric\n",
    "\n",
    "    J^\\mu = (4\\pi k)^{-1} \\hat{\\nabla}_\\nu F^{\\mu\\nu}\n",
    "\"\"\", reset=True)"
   ]
  },
  {
   "cell_type": "code",
   "execution_count": 19,
   "id": "705b61a3",
   "metadata": {},
   "outputs": [
    {
     "data": {
      "text/plain": [
       "('k',\n",
       " 'hDD',\n",
       " 'epsilonUUUU',\n",
       " 'hdet',\n",
       " 'hUU',\n",
       " 'hDD_dD',\n",
       " 'GammaUDD',\n",
       " 'FUU',\n",
       " 'FUU_dD',\n",
       " 'FUU_cdD',\n",
       " 'JU')"
      ]
     },
     "execution_count": 19,
     "metadata": {},
     "output_type": "execute_result"
    }
   ],
   "source": [
    "# Multiple Metric Tensors (Assignment)\n",
    "parse_latex(r\"\"\"\n",
    "    % define k --const\n",
    "\n",
    "    % define hDD --dim 4 --deriv dD --metric\n",
    "    % define FUU --dim 4 --deriv dD --sym anti01 --metric hDD\n",
    "\n",
    "    J^\\mu = (4\\pi k)^{-1} \\nabla_\\nu F^{\\mu\\nu}\n",
    "\"\"\", reset=True)"
   ]
  }
 ],
 "metadata": {
  "kernelspec": {
   "display_name": "Python 3 (ipykernel)",
   "language": "python",
   "name": "python3"
  },
  "language_info": {
   "codemirror_mode": {
    "name": "ipython",
    "version": 3
   },
   "file_extension": ".py",
   "mimetype": "text/x-python",
   "name": "python",
   "nbconvert_exporter": "python",
   "pygments_lexer": "ipython3",
   "version": "3.9.10"
  },
  "vscode": {
   "interpreter": {
    "hash": "2953c852df7d83ae3d46b3bc28bd1a6a64822dd8b5847ba0103c2babdd33afc3"
   }
  }
 },
 "nbformat": 4,
 "nbformat_minor": 5
}
